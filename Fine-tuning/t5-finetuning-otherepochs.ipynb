{
 "cells": [
  {
   "cell_type": "code",
   "execution_count": 1,
   "id": "30e0c522",
   "metadata": {
    "execution": {
     "iopub.execute_input": "2024-06-28T02:42:31.351395Z",
     "iopub.status.busy": "2024-06-28T02:42:31.351053Z",
     "iopub.status.idle": "2024-06-28T02:42:46.026983Z",
     "shell.execute_reply": "2024-06-28T02:42:46.026026Z"
    },
    "papermill": {
     "duration": 14.69052,
     "end_time": "2024-06-28T02:42:46.029446",
     "exception": false,
     "start_time": "2024-06-28T02:42:31.338926",
     "status": "completed"
    },
    "tags": []
   },
   "outputs": [
    {
     "name": "stdout",
     "output_type": "stream",
     "text": [
      "Requirement already satisfied: accelerate in /opt/conda/lib/python3.10/site-packages (0.30.1)\r\n",
      "Collecting accelerate\r\n",
      "  Downloading accelerate-0.31.0-py3-none-any.whl.metadata (19 kB)\r\n",
      "Requirement already satisfied: numpy>=1.17 in /opt/conda/lib/python3.10/site-packages (from accelerate) (1.26.4)\r\n",
      "Requirement already satisfied: packaging>=20.0 in /opt/conda/lib/python3.10/site-packages (from accelerate) (21.3)\r\n",
      "Requirement already satisfied: psutil in /opt/conda/lib/python3.10/site-packages (from accelerate) (5.9.3)\r\n",
      "Requirement already satisfied: pyyaml in /opt/conda/lib/python3.10/site-packages (from accelerate) (6.0.1)\r\n",
      "Requirement already satisfied: torch>=1.10.0 in /opt/conda/lib/python3.10/site-packages (from accelerate) (2.1.2)\r\n",
      "Requirement already satisfied: huggingface-hub in /opt/conda/lib/python3.10/site-packages (from accelerate) (0.23.2)\r\n",
      "Requirement already satisfied: safetensors>=0.3.1 in /opt/conda/lib/python3.10/site-packages (from accelerate) (0.4.3)\r\n",
      "Requirement already satisfied: pyparsing!=3.0.5,>=2.0.2 in /opt/conda/lib/python3.10/site-packages (from packaging>=20.0->accelerate) (3.1.1)\r\n",
      "Requirement already satisfied: filelock in /opt/conda/lib/python3.10/site-packages (from torch>=1.10.0->accelerate) (3.13.1)\r\n",
      "Requirement already satisfied: typing-extensions in /opt/conda/lib/python3.10/site-packages (from torch>=1.10.0->accelerate) (4.9.0)\r\n",
      "Requirement already satisfied: sympy in /opt/conda/lib/python3.10/site-packages (from torch>=1.10.0->accelerate) (1.12.1)\r\n",
      "Requirement already satisfied: networkx in /opt/conda/lib/python3.10/site-packages (from torch>=1.10.0->accelerate) (3.2.1)\r\n",
      "Requirement already satisfied: jinja2 in /opt/conda/lib/python3.10/site-packages (from torch>=1.10.0->accelerate) (3.1.2)\r\n",
      "Requirement already satisfied: fsspec in /opt/conda/lib/python3.10/site-packages (from torch>=1.10.0->accelerate) (2024.3.1)\r\n",
      "Requirement already satisfied: requests in /opt/conda/lib/python3.10/site-packages (from huggingface-hub->accelerate) (2.32.3)\r\n",
      "Requirement already satisfied: tqdm>=4.42.1 in /opt/conda/lib/python3.10/site-packages (from huggingface-hub->accelerate) (4.66.4)\r\n",
      "Requirement already satisfied: MarkupSafe>=2.0 in /opt/conda/lib/python3.10/site-packages (from jinja2->torch>=1.10.0->accelerate) (2.1.3)\r\n",
      "Requirement already satisfied: charset-normalizer<4,>=2 in /opt/conda/lib/python3.10/site-packages (from requests->huggingface-hub->accelerate) (3.3.2)\r\n",
      "Requirement already satisfied: idna<4,>=2.5 in /opt/conda/lib/python3.10/site-packages (from requests->huggingface-hub->accelerate) (3.6)\r\n",
      "Requirement already satisfied: urllib3<3,>=1.21.1 in /opt/conda/lib/python3.10/site-packages (from requests->huggingface-hub->accelerate) (1.26.18)\r\n",
      "Requirement already satisfied: certifi>=2017.4.17 in /opt/conda/lib/python3.10/site-packages (from requests->huggingface-hub->accelerate) (2024.2.2)\r\n",
      "Requirement already satisfied: mpmath<1.4.0,>=1.1.0 in /opt/conda/lib/python3.10/site-packages (from sympy->torch>=1.10.0->accelerate) (1.3.0)\r\n",
      "Downloading accelerate-0.31.0-py3-none-any.whl (309 kB)\r\n",
      "\u001b[2K   \u001b[90m━━━━━━━━━━━━━━━━━━━━━━━━━━━━━━━━━━━━━━━━\u001b[0m \u001b[32m309.4/309.4 kB\u001b[0m \u001b[31m15.2 MB/s\u001b[0m eta \u001b[36m0:00:00\u001b[0m\r\n",
      "\u001b[?25hInstalling collected packages: accelerate\r\n",
      "  Attempting uninstall: accelerate\r\n",
      "    Found existing installation: accelerate 0.30.1\r\n",
      "    Uninstalling accelerate-0.30.1:\r\n",
      "      Successfully uninstalled accelerate-0.30.1\r\n",
      "Successfully installed accelerate-0.31.0\r\n"
     ]
    }
   ],
   "source": [
    "!pip install accelerate -U"
   ]
  },
  {
   "cell_type": "code",
   "execution_count": 2,
   "id": "00798d60",
   "metadata": {
    "execution": {
     "iopub.execute_input": "2024-06-28T02:42:46.054074Z",
     "iopub.status.busy": "2024-06-28T02:42:46.053706Z",
     "iopub.status.idle": "2024-06-28T02:43:12.943757Z",
     "shell.execute_reply": "2024-06-28T02:43:12.942579Z"
    },
    "papermill": {
     "duration": 26.905384,
     "end_time": "2024-06-28T02:43:12.946371",
     "exception": false,
     "start_time": "2024-06-28T02:42:46.040987",
     "status": "completed"
    },
    "tags": []
   },
   "outputs": [
    {
     "name": "stdout",
     "output_type": "stream",
     "text": [
      "Requirement already satisfied: datasets in /opt/conda/lib/python3.10/site-packages (2.19.2)\r\n",
      "Collecting datasets\r\n",
      "  Downloading datasets-2.20.0-py3-none-any.whl.metadata (19 kB)\r\n",
      "Requirement already satisfied: filelock in /opt/conda/lib/python3.10/site-packages (from datasets) (3.13.1)\r\n",
      "Requirement already satisfied: numpy>=1.17 in /opt/conda/lib/python3.10/site-packages (from datasets) (1.26.4)\r\n",
      "Collecting pyarrow>=15.0.0 (from datasets)\r\n",
      "  Downloading pyarrow-16.1.0-cp310-cp310-manylinux_2_28_x86_64.whl.metadata (3.0 kB)\r\n",
      "Requirement already satisfied: pyarrow-hotfix in /opt/conda/lib/python3.10/site-packages (from datasets) (0.6)\r\n",
      "Requirement already satisfied: dill<0.3.9,>=0.3.0 in /opt/conda/lib/python3.10/site-packages (from datasets) (0.3.8)\r\n",
      "Requirement already satisfied: pandas in /opt/conda/lib/python3.10/site-packages (from datasets) (2.2.1)\r\n",
      "Requirement already satisfied: requests>=2.32.2 in /opt/conda/lib/python3.10/site-packages (from datasets) (2.32.3)\r\n",
      "Requirement already satisfied: tqdm>=4.66.3 in /opt/conda/lib/python3.10/site-packages (from datasets) (4.66.4)\r\n",
      "Requirement already satisfied: xxhash in /opt/conda/lib/python3.10/site-packages (from datasets) (3.4.1)\r\n",
      "Requirement already satisfied: multiprocess in /opt/conda/lib/python3.10/site-packages (from datasets) (0.70.16)\r\n",
      "Requirement already satisfied: fsspec<=2024.5.0,>=2023.1.0 in /opt/conda/lib/python3.10/site-packages (from fsspec[http]<=2024.5.0,>=2023.1.0->datasets) (2024.3.1)\r\n",
      "Requirement already satisfied: aiohttp in /opt/conda/lib/python3.10/site-packages (from datasets) (3.9.1)\r\n",
      "Requirement already satisfied: huggingface-hub>=0.21.2 in /opt/conda/lib/python3.10/site-packages (from datasets) (0.23.2)\r\n",
      "Requirement already satisfied: packaging in /opt/conda/lib/python3.10/site-packages (from datasets) (21.3)\r\n",
      "Requirement already satisfied: pyyaml>=5.1 in /opt/conda/lib/python3.10/site-packages (from datasets) (6.0.1)\r\n",
      "Requirement already satisfied: attrs>=17.3.0 in /opt/conda/lib/python3.10/site-packages (from aiohttp->datasets) (23.2.0)\r\n",
      "Requirement already satisfied: multidict<7.0,>=4.5 in /opt/conda/lib/python3.10/site-packages (from aiohttp->datasets) (6.0.4)\r\n",
      "Requirement already satisfied: yarl<2.0,>=1.0 in /opt/conda/lib/python3.10/site-packages (from aiohttp->datasets) (1.9.3)\r\n",
      "Requirement already satisfied: frozenlist>=1.1.1 in /opt/conda/lib/python3.10/site-packages (from aiohttp->datasets) (1.4.1)\r\n",
      "Requirement already satisfied: aiosignal>=1.1.2 in /opt/conda/lib/python3.10/site-packages (from aiohttp->datasets) (1.3.1)\r\n",
      "Requirement already satisfied: async-timeout<5.0,>=4.0 in /opt/conda/lib/python3.10/site-packages (from aiohttp->datasets) (4.0.3)\r\n",
      "Requirement already satisfied: typing-extensions>=3.7.4.3 in /opt/conda/lib/python3.10/site-packages (from huggingface-hub>=0.21.2->datasets) (4.9.0)\r\n",
      "Requirement already satisfied: pyparsing!=3.0.5,>=2.0.2 in /opt/conda/lib/python3.10/site-packages (from packaging->datasets) (3.1.1)\r\n",
      "Requirement already satisfied: charset-normalizer<4,>=2 in /opt/conda/lib/python3.10/site-packages (from requests>=2.32.2->datasets) (3.3.2)\r\n",
      "Requirement already satisfied: idna<4,>=2.5 in /opt/conda/lib/python3.10/site-packages (from requests>=2.32.2->datasets) (3.6)\r\n",
      "Requirement already satisfied: urllib3<3,>=1.21.1 in /opt/conda/lib/python3.10/site-packages (from requests>=2.32.2->datasets) (1.26.18)\r\n",
      "Requirement already satisfied: certifi>=2017.4.17 in /opt/conda/lib/python3.10/site-packages (from requests>=2.32.2->datasets) (2024.2.2)\r\n",
      "Requirement already satisfied: python-dateutil>=2.8.2 in /opt/conda/lib/python3.10/site-packages (from pandas->datasets) (2.9.0.post0)\r\n",
      "Requirement already satisfied: pytz>=2020.1 in /opt/conda/lib/python3.10/site-packages (from pandas->datasets) (2023.3.post1)\r\n",
      "Requirement already satisfied: tzdata>=2022.7 in /opt/conda/lib/python3.10/site-packages (from pandas->datasets) (2023.4)\r\n",
      "Requirement already satisfied: six>=1.5 in /opt/conda/lib/python3.10/site-packages (from python-dateutil>=2.8.2->pandas->datasets) (1.16.0)\r\n",
      "Downloading datasets-2.20.0-py3-none-any.whl (547 kB)\r\n",
      "\u001b[2K   \u001b[90m━━━━━━━━━━━━━━━━━━━━━━━━━━━━━━━━━━━━━━━━\u001b[0m \u001b[32m547.8/547.8 kB\u001b[0m \u001b[31m26.2 MB/s\u001b[0m eta \u001b[36m0:00:00\u001b[0m\r\n",
      "\u001b[?25hDownloading pyarrow-16.1.0-cp310-cp310-manylinux_2_28_x86_64.whl (40.8 MB)\r\n",
      "\u001b[2K   \u001b[90m━━━━━━━━━━━━━━━━━━━━━━━━━━━━━━━━━━━━━━━━\u001b[0m \u001b[32m40.8/40.8 MB\u001b[0m \u001b[31m40.8 MB/s\u001b[0m eta \u001b[36m0:00:00\u001b[0m\r\n",
      "\u001b[?25hInstalling collected packages: pyarrow, datasets\r\n",
      "  Attempting uninstall: pyarrow\r\n",
      "    Found existing installation: pyarrow 14.0.2\r\n",
      "    Uninstalling pyarrow-14.0.2:\r\n",
      "      Successfully uninstalled pyarrow-14.0.2\r\n",
      "  Attempting uninstall: datasets\r\n",
      "    Found existing installation: datasets 2.19.2\r\n",
      "    Uninstalling datasets-2.19.2:\r\n",
      "      Successfully uninstalled datasets-2.19.2\r\n",
      "\u001b[31mERROR: pip's dependency resolver does not currently take into account all the packages that are installed. This behaviour is the source of the following dependency conflicts.\r\n",
      "cudf 24.4.1 requires cubinlinker, which is not installed.\r\n",
      "cudf 24.4.1 requires cupy-cuda11x>=12.0.0, which is not installed.\r\n",
      "cudf 24.4.1 requires ptxcompiler, which is not installed.\r\n",
      "cuml 24.4.0 requires cupy-cuda11x>=12.0.0, which is not installed.\r\n",
      "dask-cudf 24.4.1 requires cupy-cuda11x>=12.0.0, which is not installed.\r\n",
      "apache-beam 2.46.0 requires dill<0.3.2,>=0.3.1.1, but you have dill 0.3.8 which is incompatible.\r\n",
      "apache-beam 2.46.0 requires numpy<1.25.0,>=1.14.3, but you have numpy 1.26.4 which is incompatible.\r\n",
      "apache-beam 2.46.0 requires pyarrow<10.0.0,>=3.0.0, but you have pyarrow 16.1.0 which is incompatible.\r\n",
      "beatrix-jupyterlab 2023.128.151533 requires jupyterlab~=3.6.0, but you have jupyterlab 4.2.1 which is incompatible.\r\n",
      "cudf 24.4.1 requires cuda-python<12.0a0,>=11.7.1, but you have cuda-python 12.5.0 which is incompatible.\r\n",
      "cudf 24.4.1 requires pyarrow<15.0.0a0,>=14.0.1, but you have pyarrow 16.1.0 which is incompatible.\r\n",
      "rapids-dask-dependency 24.4.1a0 requires dask==2024.1.1, but you have dask 2024.5.2 which is incompatible.\r\n",
      "rapids-dask-dependency 24.4.1a0 requires dask-expr==0.4.0, but you have dask-expr 1.1.2 which is incompatible.\u001b[0m\u001b[31m\r\n",
      "\u001b[0mSuccessfully installed datasets-2.20.0 pyarrow-16.1.0\r\n"
     ]
    }
   ],
   "source": [
    "!pip install datasets --upgrade"
   ]
  },
  {
   "cell_type": "code",
   "execution_count": 3,
   "id": "8c52d319",
   "metadata": {
    "execution": {
     "iopub.execute_input": "2024-06-28T02:43:12.977533Z",
     "iopub.status.busy": "2024-06-28T02:43:12.976697Z",
     "iopub.status.idle": "2024-06-28T02:43:15.061705Z",
     "shell.execute_reply": "2024-06-28T02:43:15.060727Z"
    },
    "papermill": {
     "duration": 2.103766,
     "end_time": "2024-06-28T02:43:15.064008",
     "exception": false,
     "start_time": "2024-06-28T02:43:12.960242",
     "status": "completed"
    },
    "tags": []
   },
   "outputs": [
    {
     "name": "stdout",
     "output_type": "stream",
     "text": [
      "\u001b[31mERROR: Could not find a version that satisfies the requirement zipfile (from versions: none)\u001b[0m\u001b[31m\r\n",
      "\u001b[0m\u001b[31mERROR: No matching distribution found for zipfile\u001b[0m\u001b[31m\r\n",
      "\u001b[0m"
     ]
    }
   ],
   "source": [
    "!pip install zipfile"
   ]
  },
  {
   "cell_type": "code",
   "execution_count": 4,
   "id": "7a97488e",
   "metadata": {
    "execution": {
     "iopub.execute_input": "2024-06-28T02:43:15.093320Z",
     "iopub.status.busy": "2024-06-28T02:43:15.092767Z",
     "iopub.status.idle": "2024-06-28T02:43:30.694299Z",
     "shell.execute_reply": "2024-06-28T02:43:30.693134Z"
    },
    "papermill": {
     "duration": 15.619523,
     "end_time": "2024-06-28T02:43:30.696851",
     "exception": false,
     "start_time": "2024-06-28T02:43:15.077328",
     "status": "completed"
    },
    "tags": []
   },
   "outputs": [],
   "source": [
    "!pip install -U -q PyDrive"
   ]
  },
  {
   "cell_type": "code",
   "execution_count": 5,
   "id": "f68cfc94",
   "metadata": {
    "execution": {
     "iopub.execute_input": "2024-06-28T02:43:30.726740Z",
     "iopub.status.busy": "2024-06-28T02:43:30.725730Z",
     "iopub.status.idle": "2024-06-28T02:43:44.059784Z",
     "shell.execute_reply": "2024-06-28T02:43:44.058683Z"
    },
    "papermill": {
     "duration": 13.351917,
     "end_time": "2024-06-28T02:43:44.062362",
     "exception": false,
     "start_time": "2024-06-28T02:43:30.710445",
     "status": "completed"
    },
    "tags": []
   },
   "outputs": [
    {
     "name": "stdout",
     "output_type": "stream",
     "text": [
      "Collecting gdown\r\n",
      "  Downloading gdown-5.2.0-py3-none-any.whl.metadata (5.8 kB)\r\n",
      "Requirement already satisfied: beautifulsoup4 in /opt/conda/lib/python3.10/site-packages (from gdown) (4.12.2)\r\n",
      "Requirement already satisfied: filelock in /opt/conda/lib/python3.10/site-packages (from gdown) (3.13.1)\r\n",
      "Requirement already satisfied: requests[socks] in /opt/conda/lib/python3.10/site-packages (from gdown) (2.32.3)\r\n",
      "Requirement already satisfied: tqdm in /opt/conda/lib/python3.10/site-packages (from gdown) (4.66.4)\r\n",
      "Requirement already satisfied: soupsieve>1.2 in /opt/conda/lib/python3.10/site-packages (from beautifulsoup4->gdown) (2.5)\r\n",
      "Requirement already satisfied: charset-normalizer<4,>=2 in /opt/conda/lib/python3.10/site-packages (from requests[socks]->gdown) (3.3.2)\r\n",
      "Requirement already satisfied: idna<4,>=2.5 in /opt/conda/lib/python3.10/site-packages (from requests[socks]->gdown) (3.6)\r\n",
      "Requirement already satisfied: urllib3<3,>=1.21.1 in /opt/conda/lib/python3.10/site-packages (from requests[socks]->gdown) (1.26.18)\r\n",
      "Requirement already satisfied: certifi>=2017.4.17 in /opt/conda/lib/python3.10/site-packages (from requests[socks]->gdown) (2024.2.2)\r\n",
      "Requirement already satisfied: PySocks!=1.5.7,>=1.5.6 in /opt/conda/lib/python3.10/site-packages (from requests[socks]->gdown) (1.7.1)\r\n",
      "Downloading gdown-5.2.0-py3-none-any.whl (18 kB)\r\n",
      "Installing collected packages: gdown\r\n",
      "Successfully installed gdown-5.2.0\r\n"
     ]
    }
   ],
   "source": [
    "!pip install gdown"
   ]
  },
  {
   "cell_type": "code",
   "execution_count": 6,
   "id": "caff4c75",
   "metadata": {
    "execution": {
     "iopub.execute_input": "2024-06-28T02:43:44.093071Z",
     "iopub.status.busy": "2024-06-28T02:43:44.092141Z",
     "iopub.status.idle": "2024-06-28T02:43:44.097149Z",
     "shell.execute_reply": "2024-06-28T02:43:44.096194Z"
    },
    "papermill": {
     "duration": 0.022552,
     "end_time": "2024-06-28T02:43:44.099202",
     "exception": false,
     "start_time": "2024-06-28T02:43:44.076650",
     "status": "completed"
    },
    "tags": []
   },
   "outputs": [],
   "source": [
    "file_id = \"xxxxxxxxxxxxxxxxxxxxxxxxxxxxxxxxxxxx\""
   ]
  },
  {
   "cell_type": "code",
   "execution_count": 7,
   "id": "9663bf5e",
   "metadata": {
    "execution": {
     "iopub.execute_input": "2024-06-28T02:43:44.129157Z",
     "iopub.status.busy": "2024-06-28T02:43:44.128448Z",
     "iopub.status.idle": "2024-06-28T02:45:13.540594Z",
     "shell.execute_reply": "2024-06-28T02:45:13.539624Z"
    },
    "papermill": {
     "duration": 89.429802,
     "end_time": "2024-06-28T02:45:13.542925",
     "exception": false,
     "start_time": "2024-06-28T02:43:44.113123",
     "status": "completed"
    },
    "tags": []
   },
   "outputs": [
    {
     "name": "stdout",
     "output_type": "stream",
     "text": [
      "/opt/conda/lib/python3.10/site-packages/gdown/__main__.py:140: FutureWarning: Option `--id` was deprecated in version 4.3.1 and will be removed in 5.0. You don't need to pass it anymore to use a file ID.\r\n",
      "  warnings.warn(\r\n",
      "Downloading...\r\n",
      "From (original): https://drive.google.com/uc?id=1KzPx96hawpKg-Iw2yNPW9VnzqbY0uKLh\r\n",
      "From (redirected): https://drive.google.com/uc?id=1KzPx96hawpKg-Iw2yNPW9VnzqbY0uKLh&confirm=t&uuid=97001d9d-fbf9-41cf-883a-aff98c4de9ca\r\n",
      "To: /kaggle/working/T5_finetuned_SummaryFlow_Epoch_29.zip\r\n",
      "100%|████████████████████████████████████████| 994M/994M [01:23<00:00, 11.8MB/s]\r\n"
     ]
    }
   ],
   "source": [
    "# !gdown --id <File ID>\n",
    "!gdown --id $file_id"
   ]
  },
  {
   "cell_type": "code",
   "execution_count": 8,
   "id": "b0603f7f",
   "metadata": {
    "execution": {
     "iopub.execute_input": "2024-06-28T02:45:13.613254Z",
     "iopub.status.busy": "2024-06-28T02:45:13.612835Z",
     "iopub.status.idle": "2024-06-28T02:45:13.617363Z",
     "shell.execute_reply": "2024-06-28T02:45:13.616547Z"
    },
    "papermill": {
     "duration": 0.042497,
     "end_time": "2024-06-28T02:45:13.619350",
     "exception": false,
     "start_time": "2024-06-28T02:45:13.576853",
     "status": "completed"
    },
    "tags": []
   },
   "outputs": [],
   "source": [
    "trianEpochs = 2"
   ]
  },
  {
   "cell_type": "code",
   "execution_count": 9,
   "id": "27112434",
   "metadata": {
    "execution": {
     "iopub.execute_input": "2024-06-28T02:45:13.691301Z",
     "iopub.status.busy": "2024-06-28T02:45:13.690431Z",
     "iopub.status.idle": "2024-06-28T02:45:13.697243Z",
     "shell.execute_reply": "2024-06-28T02:45:13.696266Z"
    },
    "papermill": {
     "duration": 0.044597,
     "end_time": "2024-06-28T02:45:13.699237",
     "exception": false,
     "start_time": "2024-06-28T02:45:13.654640",
     "status": "completed"
    },
    "tags": []
   },
   "outputs": [
    {
     "name": "stdout",
     "output_type": "stream",
     "text": [
      "Downloaded file: ./__notebook__.ipynb\n"
     ]
    }
   ],
   "source": [
    "import os\n",
    "def get_most_recent_file(directory='.'):\n",
    "    files = os.listdir(directory)\n",
    "    paths = [os.path.join(directory, basename) for basename in files]\n",
    "    return max(paths, key=os.path.getctime)\n",
    "\n",
    "# Find the most recently downloaded file\n",
    "downloaded_file = get_most_recent_file()\n",
    "\n",
    "print(f\"Downloaded file: {downloaded_file}\")"
   ]
  },
  {
   "cell_type": "code",
   "execution_count": 10,
   "id": "421b4a0f",
   "metadata": {
    "execution": {
     "iopub.execute_input": "2024-06-28T02:45:13.769518Z",
     "iopub.status.busy": "2024-06-28T02:45:13.768866Z",
     "iopub.status.idle": "2024-06-28T02:45:13.773066Z",
     "shell.execute_reply": "2024-06-28T02:45:13.772184Z"
    },
    "papermill": {
     "duration": 0.041261,
     "end_time": "2024-06-28T02:45:13.774965",
     "exception": false,
     "start_time": "2024-06-28T02:45:13.733704",
     "status": "completed"
    },
    "tags": []
   },
   "outputs": [],
   "source": [
    "downloaded_file = '/kaggle/working/T5_finetuned_SummaryFlow_Epoch_29.zip'"
   ]
  },
  {
   "cell_type": "code",
   "execution_count": 11,
   "id": "71a012bf",
   "metadata": {
    "execution": {
     "iopub.execute_input": "2024-06-28T02:45:13.844778Z",
     "iopub.status.busy": "2024-06-28T02:45:13.844103Z",
     "iopub.status.idle": "2024-06-28T02:45:32.939521Z",
     "shell.execute_reply": "2024-06-28T02:45:32.938492Z"
    },
    "papermill": {
     "duration": 19.13265,
     "end_time": "2024-06-28T02:45:32.941860",
     "exception": false,
     "start_time": "2024-06-28T02:45:13.809210",
     "status": "completed"
    },
    "tags": []
   },
   "outputs": [
    {
     "name": "stderr",
     "output_type": "stream",
     "text": [
      "2024-06-28 02:45:23.475149: E external/local_xla/xla/stream_executor/cuda/cuda_dnn.cc:9261] Unable to register cuDNN factory: Attempting to register factory for plugin cuDNN when one has already been registered\n",
      "2024-06-28 02:45:23.475288: E external/local_xla/xla/stream_executor/cuda/cuda_fft.cc:607] Unable to register cuFFT factory: Attempting to register factory for plugin cuFFT when one has already been registered\n",
      "2024-06-28 02:45:23.599386: E external/local_xla/xla/stream_executor/cuda/cuda_blas.cc:1515] Unable to register cuBLAS factory: Attempting to register factory for plugin cuBLAS when one has already been registered\n"
     ]
    }
   ],
   "source": [
    "import pandas as pd\n",
    "import wandb\n",
    "import torch\n",
    "from transformers import AutoModelForSeq2SeqLM, AutoTokenizer\n",
    "from transformers import Trainer, TrainingArguments\n",
    "from transformers import pipeline\n",
    "from transformers import DataCollatorForSeq2Seq\n",
    "from datasets import Dataset"
   ]
  },
  {
   "cell_type": "code",
   "execution_count": 12,
   "id": "3af6a6de",
   "metadata": {
    "execution": {
     "iopub.execute_input": "2024-06-28T02:45:33.011297Z",
     "iopub.status.busy": "2024-06-28T02:45:33.010571Z",
     "iopub.status.idle": "2024-06-28T02:45:33.015421Z",
     "shell.execute_reply": "2024-06-28T02:45:33.014526Z"
    },
    "papermill": {
     "duration": 0.041641,
     "end_time": "2024-06-28T02:45:33.017441",
     "exception": false,
     "start_time": "2024-06-28T02:45:32.975800",
     "status": "completed"
    },
    "tags": []
   },
   "outputs": [],
   "source": [
    "os.environ['WANDB_SILENT'] = 'true'"
   ]
  },
  {
   "cell_type": "code",
   "execution_count": 13,
   "id": "85e93a9a",
   "metadata": {
    "execution": {
     "iopub.execute_input": "2024-06-28T02:45:33.087510Z",
     "iopub.status.busy": "2024-06-28T02:45:33.086693Z",
     "iopub.status.idle": "2024-06-28T02:45:33.136708Z",
     "shell.execute_reply": "2024-06-28T02:45:33.135845Z"
    },
    "papermill": {
     "duration": 0.087286,
     "end_time": "2024-06-28T02:45:33.138784",
     "exception": false,
     "start_time": "2024-06-28T02:45:33.051498",
     "status": "completed"
    },
    "tags": []
   },
   "outputs": [
    {
     "data": {
      "text/plain": [
       "device(type='cuda')"
      ]
     },
     "execution_count": 13,
     "metadata": {},
     "output_type": "execute_result"
    }
   ],
   "source": [
    "# Device Selection\n",
    "device = torch.device('cuda' if torch.cuda.is_available() else 'cpu')\n",
    "device"
   ]
  },
  {
   "cell_type": "code",
   "execution_count": 14,
   "id": "3d0c1b05",
   "metadata": {
    "execution": {
     "iopub.execute_input": "2024-06-28T02:45:33.270009Z",
     "iopub.status.busy": "2024-06-28T02:45:33.269606Z",
     "iopub.status.idle": "2024-06-28T02:45:33.289402Z",
     "shell.execute_reply": "2024-06-28T02:45:33.288532Z"
    },
    "papermill": {
     "duration": 0.118763,
     "end_time": "2024-06-28T02:45:33.292003",
     "exception": false,
     "start_time": "2024-06-28T02:45:33.173240",
     "status": "completed"
    },
    "tags": []
   },
   "outputs": [],
   "source": [
    "from transformers import AutoModelForSequenceClassification, Trainer, TrainingArguments\n",
    "\n",
    "from pydrive.auth import GoogleAuth\n",
    "from pydrive.drive import GoogleDrive\n",
    "from oauth2client.client import GoogleCredentials"
   ]
  },
  {
   "cell_type": "code",
   "execution_count": 15,
   "id": "6614e7f8",
   "metadata": {
    "execution": {
     "iopub.execute_input": "2024-06-28T02:45:33.364083Z",
     "iopub.status.busy": "2024-06-28T02:45:33.363716Z",
     "iopub.status.idle": "2024-06-28T02:45:33.368217Z",
     "shell.execute_reply": "2024-06-28T02:45:33.367295Z"
    },
    "papermill": {
     "duration": 0.043666,
     "end_time": "2024-06-28T02:45:33.370949",
     "exception": false,
     "start_time": "2024-06-28T02:45:33.327283",
     "status": "completed"
    },
    "tags": []
   },
   "outputs": [],
   "source": [
    "os.environ['GOOGLE_APPLICATION_CREDENTIALS'] = 'xxxxxxxxxxxxxxxxxxxxxxxxxxxxxxxxxxxxxxxxxxxxxxxxxx'"
   ]
  },
  {
   "cell_type": "code",
   "execution_count": 16,
   "id": "564daf9a",
   "metadata": {
    "execution": {
     "iopub.execute_input": "2024-06-28T02:45:33.443269Z",
     "iopub.status.busy": "2024-06-28T02:45:33.442419Z",
     "iopub.status.idle": "2024-06-28T02:45:33.447164Z",
     "shell.execute_reply": "2024-06-28T02:45:33.446158Z"
    },
    "papermill": {
     "duration": 0.043389,
     "end_time": "2024-06-28T02:45:33.449132",
     "exception": false,
     "start_time": "2024-06-28T02:45:33.405743",
     "status": "completed"
    },
    "tags": []
   },
   "outputs": [],
   "source": [
    "gauth = GoogleAuth()\n",
    "drive = GoogleDrive(gauth)"
   ]
  },
  {
   "cell_type": "code",
   "execution_count": 17,
   "id": "f493c122",
   "metadata": {
    "execution": {
     "iopub.execute_input": "2024-06-28T02:45:33.520693Z",
     "iopub.status.busy": "2024-06-28T02:45:33.520322Z",
     "iopub.status.idle": "2024-06-28T02:45:35.185414Z",
     "shell.execute_reply": "2024-06-28T02:45:35.184205Z"
    },
    "papermill": {
     "duration": 1.703959,
     "end_time": "2024-06-28T02:45:35.187979",
     "exception": false,
     "start_time": "2024-06-28T02:45:33.484020",
     "status": "completed"
    },
    "tags": []
   },
   "outputs": [],
   "source": [
    "import os\n",
    "import zipfile\n",
    "\n",
    "# Path to the ZIP file containing the model\n",
    "model_zip_path = downloaded_file\n",
    "\n",
    "if downloaded_file.endswith('.zip'):\n",
    "    # Create the directory to extract the model\n",
    "    os.makedirs('/kaggle/working/model', exist_ok=True)\n",
    "\n",
    "# Extract the model from the ZIP file\n",
    "    with zipfile.ZipFile(model_zip_path, 'r') as zip_ref:\n",
    "        zip_ref.extractall('/kaggle/working/model')\n",
    "else:\n",
    "    raise ValueError(f\"The downloaded file is not a zip file: {downloaded_file}\")"
   ]
  },
  {
   "cell_type": "code",
   "execution_count": 18,
   "id": "4d48ef93",
   "metadata": {
    "execution": {
     "iopub.execute_input": "2024-06-28T02:45:35.258283Z",
     "iopub.status.busy": "2024-06-28T02:45:35.257441Z",
     "iopub.status.idle": "2024-06-28T02:45:35.263906Z",
     "shell.execute_reply": "2024-06-28T02:45:35.262853Z"
    },
    "papermill": {
     "duration": 0.043725,
     "end_time": "2024-06-28T02:45:35.265904",
     "exception": false,
     "start_time": "2024-06-28T02:45:35.222179",
     "status": "completed"
    },
    "tags": []
   },
   "outputs": [
    {
     "name": "stdout",
     "output_type": "stream",
     "text": [
      "The Current epoch number is: 31\n"
     ]
    }
   ],
   "source": [
    "# Define the path to the epoch file\n",
    "epoch_file_path = '/kaggle/working/model/epoch.txt'\n",
    "\n",
    "# Read the epoch number from the file\n",
    "with open(epoch_file_path, 'r') as f:\n",
    "    epoch_number = f.read().strip()\n",
    "\n",
    "# Convert the read value to an integer\n",
    "epoch_number = int(epoch_number)\n",
    "\n",
    "epoch_number = epoch_number + trianEpochs\n",
    "print(f\"The Current epoch number is: {epoch_number}\")\n",
    "\n"
   ]
  },
  {
   "cell_type": "code",
   "execution_count": 19,
   "id": "0c9c0ba4",
   "metadata": {
    "execution": {
     "iopub.execute_input": "2024-06-28T02:45:35.336219Z",
     "iopub.status.busy": "2024-06-28T02:45:35.335870Z",
     "iopub.status.idle": "2024-06-28T02:45:35.340855Z",
     "shell.execute_reply": "2024-06-28T02:45:35.339929Z"
    },
    "papermill": {
     "duration": 0.043239,
     "end_time": "2024-06-28T02:45:35.343142",
     "exception": false,
     "start_time": "2024-06-28T02:45:35.299903",
     "status": "completed"
    },
    "tags": []
   },
   "outputs": [
    {
     "name": "stdout",
     "output_type": "stream",
     "text": [
      "The file /kaggle/working/model/epoch.txt has been deleted.\n"
     ]
    }
   ],
   "source": [
    "os.remove(epoch_file_path)\n",
    "print(f\"The file {epoch_file_path} has been deleted.\")"
   ]
  },
  {
   "cell_type": "code",
   "execution_count": 20,
   "id": "973c4f91",
   "metadata": {
    "execution": {
     "iopub.execute_input": "2024-06-28T02:45:35.413820Z",
     "iopub.status.busy": "2024-06-28T02:45:35.412974Z",
     "iopub.status.idle": "2024-06-28T02:45:35.417371Z",
     "shell.execute_reply": "2024-06-28T02:45:35.416473Z"
    },
    "papermill": {
     "duration": 0.042132,
     "end_time": "2024-06-28T02:45:35.419413",
     "exception": false,
     "start_time": "2024-06-28T02:45:35.377281",
     "status": "completed"
    },
    "tags": []
   },
   "outputs": [],
   "source": [
    "torch.cuda.empty_cache()"
   ]
  },
  {
   "cell_type": "code",
   "execution_count": 21,
   "id": "b202cc70",
   "metadata": {
    "execution": {
     "iopub.execute_input": "2024-06-28T02:45:35.489887Z",
     "iopub.status.busy": "2024-06-28T02:45:35.489510Z",
     "iopub.status.idle": "2024-06-28T02:45:37.094068Z",
     "shell.execute_reply": "2024-06-28T02:45:37.093118Z"
    },
    "papermill": {
     "duration": 1.642967,
     "end_time": "2024-06-28T02:45:37.096442",
     "exception": false,
     "start_time": "2024-06-28T02:45:35.453475",
     "status": "completed"
    },
    "tags": []
   },
   "outputs": [],
   "source": [
    "model_checkpoint = '/kaggle/working/model'\n",
    "tokenizer = AutoTokenizer.from_pretrained(model_checkpoint)\n",
    "model = AutoModelForSeq2SeqLM.from_pretrained(model_checkpoint).to(device)"
   ]
  },
  {
   "cell_type": "code",
   "execution_count": 22,
   "id": "71249281",
   "metadata": {
    "execution": {
     "iopub.execute_input": "2024-06-28T02:45:37.170381Z",
     "iopub.status.busy": "2024-06-28T02:45:37.169550Z",
     "iopub.status.idle": "2024-06-28T02:45:59.892931Z",
     "shell.execute_reply": "2024-06-28T02:45:59.891983Z"
    },
    "papermill": {
     "duration": 22.764382,
     "end_time": "2024-06-28T02:45:59.895365",
     "exception": false,
     "start_time": "2024-06-28T02:45:37.130983",
     "status": "completed"
    },
    "tags": []
   },
   "outputs": [],
   "source": [
    "# Read Data From Excel Files\n",
    "train_df = pd.read_excel(r'/kaggle/input/new-summary-flow-data/TrainData.xlsx')\n",
    "val_df = pd.read_excel(r'/kaggle/input/new-summary-flow-data/ValidationData.xlsx')"
   ]
  },
  {
   "cell_type": "code",
   "execution_count": 23,
   "id": "b80712c0",
   "metadata": {
    "execution": {
     "iopub.execute_input": "2024-06-28T02:45:59.965873Z",
     "iopub.status.busy": "2024-06-28T02:45:59.965163Z",
     "iopub.status.idle": "2024-06-28T02:46:00.135657Z",
     "shell.execute_reply": "2024-06-28T02:46:00.134780Z"
    },
    "papermill": {
     "duration": 0.208053,
     "end_time": "2024-06-28T02:46:00.137995",
     "exception": false,
     "start_time": "2024-06-28T02:45:59.929942",
     "status": "completed"
    },
    "tags": []
   },
   "outputs": [],
   "source": [
    "# Data Preprocessing\n",
    "def preprocess_text(text):\n",
    "    return text.strip(\"[]\").replace(\"'\", \"\").replace(\"\\\"\", \"\")\n",
    "\n",
    "train_df['summary'] = train_df['summary'].apply(preprocess_text)\n",
    "val_df['summary'] = val_df['summary'].apply(preprocess_text)"
   ]
  },
  {
   "cell_type": "code",
   "execution_count": 24,
   "id": "35d88c3f",
   "metadata": {
    "execution": {
     "iopub.execute_input": "2024-06-28T02:46:00.214262Z",
     "iopub.status.busy": "2024-06-28T02:46:00.213858Z",
     "iopub.status.idle": "2024-06-28T02:46:01.201704Z",
     "shell.execute_reply": "2024-06-28T02:46:01.200669Z"
    },
    "papermill": {
     "duration": 1.030815,
     "end_time": "2024-06-28T02:46:01.204041",
     "exception": false,
     "start_time": "2024-06-28T02:46:00.173226",
     "status": "completed"
    },
    "tags": []
   },
   "outputs": [],
   "source": [
    "# Put The Data In Form Of Datasets\n",
    "train_dataset = Dataset.from_pandas(train_df)\n",
    "val_dataset = Dataset.from_pandas(val_df)"
   ]
  },
  {
   "cell_type": "code",
   "execution_count": 25,
   "id": "bb3be8a4",
   "metadata": {
    "execution": {
     "iopub.execute_input": "2024-06-28T02:46:01.274691Z",
     "iopub.status.busy": "2024-06-28T02:46:01.274297Z",
     "iopub.status.idle": "2024-06-28T02:46:55.899565Z",
     "shell.execute_reply": "2024-06-28T02:46:55.898758Z"
    },
    "papermill": {
     "duration": 54.662954,
     "end_time": "2024-06-28T02:46:55.901443",
     "exception": false,
     "start_time": "2024-06-28T02:46:01.238489",
     "status": "completed"
    },
    "tags": []
   },
   "outputs": [
    {
     "data": {
      "application/vnd.jupyter.widget-view+json": {
       "model_id": "6641fd4211fe455db6e35a35baad4585",
       "version_major": 2,
       "version_minor": 0
      },
      "text/plain": [
       "Map:   0%|          | 0/110374 [00:00<?, ? examples/s]"
      ]
     },
     "metadata": {},
     "output_type": "display_data"
    },
    {
     "data": {
      "application/vnd.jupyter.widget-view+json": {
       "model_id": "96865d139b8b40ebaaac167b359ae8c1",
       "version_major": 2,
       "version_minor": 0
      },
      "text/plain": [
       "Map:   0%|          | 0/14411 [00:00<?, ? examples/s]"
      ]
     },
     "metadata": {},
     "output_type": "display_data"
    }
   ],
   "source": [
    "# Data Preprocessing\n",
    "def get_feature(batch):\n",
    "    encodings = tokenizer(batch['text'], text_target=batch['summary'], max_length=1024, truncation=True)\n",
    "    encodings = {'input_ids': encodings['input_ids'], 'attention_mask': encodings['attention_mask'], 'labels': encodings['labels']}\n",
    "    return encodings\n",
    "\n",
    "train_dataset = train_dataset.map(get_feature, batched=True)\n",
    "val_dataset = val_dataset.map(get_feature, batched=True)"
   ]
  },
  {
   "cell_type": "code",
   "execution_count": 26,
   "id": "3355c58e",
   "metadata": {
    "execution": {
     "iopub.execute_input": "2024-06-28T02:46:55.972781Z",
     "iopub.status.busy": "2024-06-28T02:46:55.972432Z",
     "iopub.status.idle": "2024-06-28T02:46:55.978630Z",
     "shell.execute_reply": "2024-06-28T02:46:55.977746Z"
    },
    "papermill": {
     "duration": 0.044562,
     "end_time": "2024-06-28T02:46:55.980674",
     "exception": false,
     "start_time": "2024-06-28T02:46:55.936112",
     "status": "completed"
    },
    "tags": []
   },
   "outputs": [],
   "source": [
    "# Put The Data In Form Of Torch Tensors\n",
    "columns = ['input_ids', 'labels', 'attention_mask']\n",
    "train_dataset.set_format(type='torch', columns=columns)\n",
    "val_dataset.set_format(type='torch', columns=columns)"
   ]
  },
  {
   "cell_type": "code",
   "execution_count": 27,
   "id": "293d74f5",
   "metadata": {
    "execution": {
     "iopub.execute_input": "2024-06-28T02:46:56.053887Z",
     "iopub.status.busy": "2024-06-28T02:46:56.053142Z",
     "iopub.status.idle": "2024-06-28T02:46:56.057888Z",
     "shell.execute_reply": "2024-06-28T02:46:56.056918Z"
    },
    "papermill": {
     "duration": 0.044455,
     "end_time": "2024-06-28T02:46:56.059975",
     "exception": false,
     "start_time": "2024-06-28T02:46:56.015520",
     "status": "completed"
    },
    "tags": []
   },
   "outputs": [],
   "source": [
    "# Data Collator\n",
    "data_collator = DataCollatorForSeq2Seq(tokenizer, model=model)"
   ]
  },
  {
   "cell_type": "code",
   "execution_count": 28,
   "id": "7fe0bec1",
   "metadata": {
    "execution": {
     "iopub.execute_input": "2024-06-28T02:46:56.132383Z",
     "iopub.status.busy": "2024-06-28T02:46:56.131536Z",
     "iopub.status.idle": "2024-06-28T02:46:56.164768Z",
     "shell.execute_reply": "2024-06-28T02:46:56.163709Z"
    },
    "papermill": {
     "duration": 0.072027,
     "end_time": "2024-06-28T02:46:56.167097",
     "exception": false,
     "start_time": "2024-06-28T02:46:56.095070",
     "status": "completed"
    },
    "tags": []
   },
   "outputs": [
    {
     "name": "stderr",
     "output_type": "stream",
     "text": [
      "/opt/conda/lib/python3.10/site-packages/transformers/training_args.py:1474: FutureWarning: `evaluation_strategy` is deprecated and will be removed in version 4.46 of 🤗 Transformers. Use `eval_strategy` instead\n",
      "  warnings.warn(\n"
     ]
    }
   ],
   "source": [
    "training_args = TrainingArguments(\n",
    "    output_dir='/kaggle/working/T5-model',  # Output directory for checkpoints and evaluation results\n",
    "    overwrite_output_dir=False,  # Do not overwrite the output directory\n",
    "    num_train_epochs=trianEpochs,  # Number of training epochs to run\n",
    "    per_device_train_batch_size=1,  # Batch size per GPU\n",
    "    per_device_eval_batch_size=1,  # Batch size for evaluation per GPU\n",
    "    warmup_steps=500,  # Number of warmup steps\n",
    "    weight_decay=0.01,  # Weight decay for regularization\n",
    "    logging_steps=10,  # Log every N steps\n",
    "    evaluation_strategy='steps',  # Evaluate every `eval_steps` steps\n",
    "    eval_steps=3000,\n",
    "    save_steps=6000,# Number of steps between evaluations  # Save checkpoint every N steps\n",
    "    gradient_accumulation_steps=8,  # Number of gradient accumulation steps\n",
    "    load_best_model_at_end=True,  # Load the best model from the checkpoint at the end of training\n",
    "    metric_for_best_model=\"eval_loss\",  # Metric to use for determining the best model\n",
    "    greater_is_better=False,\n",
    "    resume_from_checkpoint='latest_checkpoint'\n",
    ")"
   ]
  },
  {
   "cell_type": "code",
   "execution_count": 29,
   "id": "0b386007",
   "metadata": {
    "execution": {
     "iopub.execute_input": "2024-06-28T02:46:56.239498Z",
     "iopub.status.busy": "2024-06-28T02:46:56.238502Z",
     "iopub.status.idle": "2024-06-28T02:46:56.274571Z",
     "shell.execute_reply": "2024-06-28T02:46:56.273786Z"
    },
    "papermill": {
     "duration": 0.074891,
     "end_time": "2024-06-28T02:46:56.276923",
     "exception": false,
     "start_time": "2024-06-28T02:46:56.202032",
     "status": "completed"
    },
    "tags": []
   },
   "outputs": [],
   "source": [
    "# Use GPU\n",
    "model = model.to(device)\n",
    "\n",
    "# Trainer Initialization\n",
    "trainer = Trainer(\n",
    "    model=model,\n",
    "    args=training_args,\n",
    "    tokenizer=tokenizer,\n",
    "    data_collator=data_collator,\n",
    "    train_dataset=train_dataset,\n",
    "    eval_dataset=val_dataset\n",
    ")"
   ]
  },
  {
   "cell_type": "code",
   "execution_count": 30,
   "id": "4688d705",
   "metadata": {
    "execution": {
     "iopub.execute_input": "2024-06-28T02:46:56.349238Z",
     "iopub.status.busy": "2024-06-28T02:46:56.348588Z",
     "iopub.status.idle": "2024-06-28T02:46:58.227763Z",
     "shell.execute_reply": "2024-06-28T02:46:58.226781Z"
    },
    "papermill": {
     "duration": 1.917587,
     "end_time": "2024-06-28T02:46:58.229765",
     "exception": false,
     "start_time": "2024-06-28T02:46:56.312178",
     "status": "completed"
    },
    "tags": []
   },
   "outputs": [
    {
     "data": {
      "text/plain": [
       "True"
      ]
     },
     "execution_count": 30,
     "metadata": {},
     "output_type": "execute_result"
    }
   ],
   "source": [
    "wandb.login(key=\"xxxxxxxxxxxxxxxxxxxxxxxxxxxxxxxxxxxxxxxx\")"
   ]
  },
  {
   "cell_type": "code",
   "execution_count": 31,
   "id": "5d4a088e",
   "metadata": {
    "execution": {
     "iopub.execute_input": "2024-06-28T02:46:58.302008Z",
     "iopub.status.busy": "2024-06-28T02:46:58.301580Z",
     "iopub.status.idle": "2024-06-28T12:53:04.496376Z",
     "shell.execute_reply": "2024-06-28T12:53:04.495428Z"
    },
    "papermill": {
     "duration": 36366.233832,
     "end_time": "2024-06-28T12:53:04.498985",
     "exception": false,
     "start_time": "2024-06-28T02:46:58.265153",
     "status": "completed"
    },
    "tags": []
   },
   "outputs": [
    {
     "name": "stderr",
     "output_type": "stream",
     "text": [
      "/opt/conda/lib/python3.10/site-packages/transformers/data/data_collator.py:646: UserWarning: Creating a tensor from a list of numpy.ndarrays is extremely slow. Please consider converting the list to a single numpy.ndarray with numpy.array() before converting to a tensor. (Triggered internally at /usr/local/src/pytorch/torch/csrc/utils/tensor_new.cpp:261.)\n",
      "  batch[\"labels\"] = torch.tensor(batch[\"labels\"], dtype=torch.int64)\n"
     ]
    },
    {
     "data": {
      "text/html": [
       "\n",
       "    <div>\n",
       "      \n",
       "      <progress value='27592' max='27592' style='width:300px; height:20px; vertical-align: middle;'></progress>\n",
       "      [27592/27592 10:05:46, Epoch 1/2]\n",
       "    </div>\n",
       "    <table border=\"1\" class=\"dataframe\">\n",
       "  <thead>\n",
       " <tr style=\"text-align: left;\">\n",
       "      <th>Step</th>\n",
       "      <th>Training Loss</th>\n",
       "      <th>Validation Loss</th>\n",
       "    </tr>\n",
       "  </thead>\n",
       "  <tbody>\n",
       "    <tr>\n",
       "      <td>3000</td>\n",
       "      <td>0.399600</td>\n",
       "      <td>7.512329</td>\n",
       "    </tr>\n",
       "    <tr>\n",
       "      <td>6000</td>\n",
       "      <td>0.508600</td>\n",
       "      <td>7.078584</td>\n",
       "    </tr>\n",
       "    <tr>\n",
       "      <td>9000</td>\n",
       "      <td>0.660400</td>\n",
       "      <td>6.195838</td>\n",
       "    </tr>\n",
       "    <tr>\n",
       "      <td>12000</td>\n",
       "      <td>0.915900</td>\n",
       "      <td>5.344384</td>\n",
       "    </tr>\n",
       "    <tr>\n",
       "      <td>15000</td>\n",
       "      <td>1.064500</td>\n",
       "      <td>4.951590</td>\n",
       "    </tr>\n",
       "    <tr>\n",
       "      <td>18000</td>\n",
       "      <td>1.204000</td>\n",
       "      <td>4.397228</td>\n",
       "    </tr>\n",
       "    <tr>\n",
       "      <td>21000</td>\n",
       "      <td>1.650700</td>\n",
       "      <td>3.874937</td>\n",
       "    </tr>\n",
       "    <tr>\n",
       "      <td>24000</td>\n",
       "      <td>2.559600</td>\n",
       "      <td>3.217551</td>\n",
       "    </tr>\n",
       "    <tr>\n",
       "      <td>27000</td>\n",
       "      <td>2.727700</td>\n",
       "      <td>2.879269</td>\n",
       "    </tr>\n",
       "  </tbody>\n",
       "</table><p>"
      ],
      "text/plain": [
       "<IPython.core.display.HTML object>"
      ]
     },
     "metadata": {},
     "output_type": "display_data"
    },
    {
     "name": "stderr",
     "output_type": "stream",
     "text": [
      "There were missing keys in the checkpoint model loaded: ['encoder.embed_tokens.weight', 'decoder.embed_tokens.weight'].\n"
     ]
    },
    {
     "data": {
      "text/plain": [
       "TrainOutput(global_step=27592, training_loss=1.215158411811213, metrics={'train_runtime': 36365.8312, 'train_samples_per_second': 6.07, 'train_steps_per_second': 0.759, 'total_flos': 6.666468043957862e+16, 'train_loss': 1.215158411811213, 'epoch': 1.9998912787431822})"
      ]
     },
     "execution_count": 31,
     "metadata": {},
     "output_type": "execute_result"
    }
   ],
   "source": [
    "# Train the model\n",
    "trainer.train()"
   ]
  },
  {
   "cell_type": "code",
   "execution_count": 32,
   "id": "4052af2a",
   "metadata": {
    "execution": {
     "iopub.execute_input": "2024-06-28T12:53:04.586122Z",
     "iopub.status.busy": "2024-06-28T12:53:04.585104Z",
     "iopub.status.idle": "2024-06-28T12:53:04.590298Z",
     "shell.execute_reply": "2024-06-28T12:53:04.589425Z"
    },
    "papermill": {
     "duration": 0.045071,
     "end_time": "2024-06-28T12:53:04.592188",
     "exception": false,
     "start_time": "2024-06-28T12:53:04.547117",
     "status": "completed"
    },
    "tags": []
   },
   "outputs": [],
   "source": [
    "model_name = f'T5_finetuned_SummaryFlow_Epoch_{epoch_number}'"
   ]
  },
  {
   "cell_type": "code",
   "execution_count": 33,
   "id": "448234a2",
   "metadata": {
    "execution": {
     "iopub.execute_input": "2024-06-28T12:53:04.669991Z",
     "iopub.status.busy": "2024-06-28T12:53:04.669249Z",
     "iopub.status.idle": "2024-06-28T12:53:06.395745Z",
     "shell.execute_reply": "2024-06-28T12:53:06.394696Z"
    },
    "papermill": {
     "duration": 1.770295,
     "end_time": "2024-06-28T12:53:06.398657",
     "exception": false,
     "start_time": "2024-06-28T12:53:04.628362",
     "status": "completed"
    },
    "tags": []
   },
   "outputs": [],
   "source": [
    "# Save the trained model\n",
    "model_save_path = f'/kaggle/working/{model_name}'\n",
    "trainer.save_model(model_save_path)"
   ]
  },
  {
   "cell_type": "code",
   "execution_count": 34,
   "id": "d7f0a204",
   "metadata": {
    "execution": {
     "iopub.execute_input": "2024-06-28T12:53:06.490179Z",
     "iopub.status.busy": "2024-06-28T12:53:06.489018Z",
     "iopub.status.idle": "2024-06-28T12:53:06.495452Z",
     "shell.execute_reply": "2024-06-28T12:53:06.494507Z"
    },
    "papermill": {
     "duration": 0.054258,
     "end_time": "2024-06-28T12:53:06.498302",
     "exception": false,
     "start_time": "2024-06-28T12:53:06.444044",
     "status": "completed"
    },
    "tags": []
   },
   "outputs": [],
   "source": [
    "epoch_file_path = f'{model_save_path}/epoch.txt'\n",
    "\n",
    "with open(epoch_file_path, 'w') as f:\n",
    "    f.write(str(epoch_number))"
   ]
  },
  {
   "cell_type": "code",
   "execution_count": 35,
   "id": "cc071a69",
   "metadata": {
    "execution": {
     "iopub.execute_input": "2024-06-28T12:53:06.628024Z",
     "iopub.status.busy": "2024-06-28T12:53:06.627666Z",
     "iopub.status.idle": "2024-06-28T12:53:09.028051Z",
     "shell.execute_reply": "2024-06-28T12:53:09.027259Z"
    },
    "papermill": {
     "duration": 2.451975,
     "end_time": "2024-06-28T12:53:09.030344",
     "exception": false,
     "start_time": "2024-06-28T12:53:06.578369",
     "status": "completed"
    },
    "tags": []
   },
   "outputs": [],
   "source": [
    "import zipfile\n",
    "import os\n",
    "# Define the folder to zip\n",
    "folder_to_zip = f'/kaggle/working/{model_name}'\n",
    "\n",
    "# Define the path for the zip file\n",
    "zip_file_path = f'/kaggle/working/{model_name}.zip'\n",
    "\n",
    "# Create a Zip file\n",
    "with zipfile.ZipFile(zip_file_path, 'w') as zip_file:\n",
    "    for folder_name, subfolders, file_names in os.walk(folder_to_zip):\n",
    "        for file_name in file_names:\n",
    "            file_path = os.path.join(folder_name, file_name)\n",
    "            zip_file.write(file_path, os.path.relpath(file_path, folder_to_zip))\n"
   ]
  },
  {
   "cell_type": "code",
   "execution_count": 36,
   "id": "c986feb6",
   "metadata": {
    "execution": {
     "iopub.execute_input": "2024-06-28T12:53:09.101888Z",
     "iopub.status.busy": "2024-06-28T12:53:09.101085Z",
     "iopub.status.idle": "2024-06-28T12:54:13.564092Z",
     "shell.execute_reply": "2024-06-28T12:54:13.563153Z"
    },
    "papermill": {
     "duration": 64.535561,
     "end_time": "2024-06-28T12:54:13.601145",
     "exception": false,
     "start_time": "2024-06-28T12:53:09.065584",
     "status": "completed"
    },
    "tags": []
   },
   "outputs": [
    {
     "name": "stdout",
     "output_type": "stream",
     "text": [
      "Uploaded file with ID 1bZOqEoBG5z_0cS46-Z5HtpGJr3MFeR-2\n"
     ]
    }
   ],
   "source": [
    "from google.oauth2.service_account import Credentials\n",
    "from googleapiclient.discovery import build\n",
    "from googleapiclient.http import MediaFileUpload\n",
    "\n",
    "# Load the service account credentials\n",
    "creds = Credentials.from_service_account_file('xxxxxxxxxxxxxxxxxxxxxxxxxxxxxxxxxxxxxxx')\n",
    "\n",
    "# Build the drive service\n",
    "drive_service = build('drive', 'v3', credentials=creds)\n",
    "\n",
    "# Create a media file upload object\n",
    "media = MediaFileUpload(zip_file_path, mimetype='application/zip')\n",
    "\n",
    "# Create a new file on Google Drive\n",
    "file_metadata = {\n",
    "    'name': f'{model_name}.zip',\n",
    "    'mimeType': 'application/zip'\n",
    "}\n",
    "file = drive_service.files().create(body=file_metadata, media_body=media, fields='id').execute()\n",
    "\n",
    "print('Uploaded file with ID {}'.format(file.get('id')))"
   ]
  },
  {
   "cell_type": "code",
   "execution_count": 37,
   "id": "a2760293",
   "metadata": {
    "execution": {
     "iopub.execute_input": "2024-06-28T12:54:13.672648Z",
     "iopub.status.busy": "2024-06-28T12:54:13.672268Z",
     "iopub.status.idle": "2024-06-28T12:54:15.701273Z",
     "shell.execute_reply": "2024-06-28T12:54:15.700355Z"
    },
    "papermill": {
     "duration": 2.067037,
     "end_time": "2024-06-28T12:54:15.703326",
     "exception": false,
     "start_time": "2024-06-28T12:54:13.636289",
     "status": "completed"
    },
    "tags": []
   },
   "outputs": [
    {
     "name": "stdout",
     "output_type": "stream",
     "text": [
      "Permission Id: anyoneWithLink\n"
     ]
    }
   ],
   "source": [
    "from googleapiclient.errors import HttpError\n",
    "\n",
    "# After uploading the file...\n",
    "try:\n",
    "    def callback(request_id, response, exception):\n",
    "        if exception:\n",
    "            # Handle error\n",
    "            print(exception)\n",
    "        else:\n",
    "            print(\"Permission Id: %s\" % response.get('id'))\n",
    "\n",
    "    batch = drive_service.new_batch_http_request(callback=callback)\n",
    "    anyone_permission = {\n",
    "        'type': 'anyone',\n",
    "        'role': 'reader',\n",
    "    }\n",
    "    batch.add(drive_service.permissions().create(\n",
    "        fileId=file.get('id'),\n",
    "        body=anyone_permission,\n",
    "        fields='id',\n",
    "    ))\n",
    "    batch.execute()\n",
    "except HttpError as error:\n",
    "    print(f'An error occurred: {error}')"
   ]
  },
  {
   "cell_type": "code",
   "execution_count": 38,
   "id": "5aab8d37",
   "metadata": {
    "execution": {
     "iopub.execute_input": "2024-06-28T12:54:15.775030Z",
     "iopub.status.busy": "2024-06-28T12:54:15.774685Z",
     "iopub.status.idle": "2024-06-28T12:54:17.554319Z",
     "shell.execute_reply": "2024-06-28T12:54:17.552672Z"
    },
    "papermill": {
     "duration": 1.8179,
     "end_time": "2024-06-28T12:54:17.556413",
     "exception": false,
     "start_time": "2024-06-28T12:54:15.738513",
     "status": "completed"
    },
    "tags": []
   },
   "outputs": [
    {
     "name": "stdout",
     "output_type": "stream",
     "text": [
      "Files:\n",
      "T5_finetuned_SummaryFlow_Epoch_31.zip (1bZOqEoBG5z_0cS46-Z5HtpGJr3MFeR-2)\n",
      "T5_finetuned_SummaryFlow_Epoch_29.zip (1KzPx96hawpKg-Iw2yNPW9VnzqbY0uKLh)\n",
      "T5_finetuned_SummaryFlow_Epoch_27.zip (1nQpLvo5rL-HDXjMzQPhBL5Mk6dAfNYH_)\n",
      "T5_finetuned_SummaryFlow_Epoch_25.zip (122q8Z5hhMo_VIO2vdDXDsYzx-jO4481V)\n",
      "T5_finetuned_SummaryFlow_Epoch_23.zip (1u8IxiUbKYg1ZANw9KqT5d7CONYQyge0g)\n",
      "T5_finetuned_SummaryFlow_Epoch_17.zip (1yJKvsh_kNN1KQRix7LW3j0k0YWpw74IZ)\n",
      "T5_finetuned_SummaryFlow_Epoch_21.zip (1tGBukZr9cJcghD-97wEiyxp31FaJwGW1)\n",
      "T5_finetuned_SummaryFlow_Epoch_19.zip (1pnsW3WnJTSqdG9SlAkKOxmjcmsGhSjqD)\n",
      "T5_finetuned_SummaryFlow_Epoch_13.zip (1qM2-261qCn5FZ8PboeBBocjJJXABBsnA)\n",
      "T5_finetuned_SummaryFlow_Epoch_8.zip (1mxOoSbjzlBqeA0LseA01z_7GqZQrn3d4)\n",
      "T5_finetuned_SummaryFlow_Epoch_2.zip (1LueoxBELeigSrNCKKsIU8GgfGXqW6HaU)\n",
      "T5_finetuned_SummaryFlow_Epoch_1.zip (1GG66zYU4u-uFTRjxIRURkYBnDJdb7obA)\n",
      "SummaryFlow_Run_8.zip (1mnp_3qv41lbG6VKanGI4Woj1S6FdehuS)\n",
      "SummaryFlow_Run.zip (1Lt7nNHffIEldUoFlNdWqqi1cc5K7bEmW)\n"
     ]
    }
   ],
   "source": [
    "from google.oauth2.service_account import Credentials\n",
    "from googleapiclient.discovery import build\n",
    "\n",
    "# Load the service account credentials\n",
    "creds = Credentials.from_service_account_file('xxxxxxxxxxxxxxxxxxxxxxxxxxxxxxxxxxx')\n",
    "\n",
    "# Build the drive service\n",
    "drive_service = build('drive', 'v3', credentials=creds)\n",
    "\n",
    "# List the first 100 files in the service account's Google Drive\n",
    "results = drive_service.files().list(pageSize=100, fields=\"nextPageToken, files(id, name)\").execute()\n",
    "items = results.get('files', [])\n",
    "\n",
    "if not items:\n",
    "    print('No files found.')\n",
    "else:\n",
    "    print('Files:')\n",
    "    for item in items:\n",
    "        print(f'{item[\"name\"]} ({item[\"id\"]})')"
   ]
  }
 ],
 "metadata": {
  "kaggle": {
   "accelerator": "gpu",
   "dataSources": [
    {
     "datasetId": 4631479,
     "sourceId": 7889032,
     "sourceType": "datasetVersion"
    },
    {
     "datasetId": 5219629,
     "sourceId": 8702635,
     "sourceType": "datasetVersion"
    }
   ],
   "dockerImageVersionId": 30733,
   "isGpuEnabled": true,
   "isInternetEnabled": true,
   "language": "python",
   "sourceType": "notebook"
  },
  "kernelspec": {
   "display_name": "Python 3",
   "language": "python",
   "name": "python3"
  },
  "language_info": {
   "codemirror_mode": {
    "name": "ipython",
    "version": 3
   },
   "file_extension": ".py",
   "mimetype": "text/x-python",
   "name": "python",
   "nbconvert_exporter": "python",
   "pygments_lexer": "ipython3",
   "version": "3.10.13"
  },
  "papermill": {
   "default_parameters": {},
   "duration": 36712.014049,
   "end_time": "2024-06-28T12:54:20.491715",
   "environment_variables": {},
   "exception": null,
   "input_path": "__notebook__.ipynb",
   "output_path": "__notebook__.ipynb",
   "parameters": {},
   "start_time": "2024-06-28T02:42:28.477666",
   "version": "2.5.0"
  },
  "widgets": {
   "application/vnd.jupyter.widget-state+json": {
    "state": {
     "09227c61ad144afbb9342b2a1889f6b7": {
      "model_module": "@jupyter-widgets/controls",
      "model_module_version": "1.5.0",
      "model_name": "FloatProgressModel",
      "state": {
       "_dom_classes": [],
       "_model_module": "@jupyter-widgets/controls",
       "_model_module_version": "1.5.0",
       "_model_name": "FloatProgressModel",
       "_view_count": null,
       "_view_module": "@jupyter-widgets/controls",
       "_view_module_version": "1.5.0",
       "_view_name": "ProgressView",
       "bar_style": "success",
       "description": "",
       "description_tooltip": null,
       "layout": "IPY_MODEL_6ee3260e2903486981dbaaa54cf38629",
       "max": 14411,
       "min": 0,
       "orientation": "horizontal",
       "style": "IPY_MODEL_e69bde40ae5c46f18de2c77c8b87d437",
       "value": 14411
      }
     },
     "0b07409ccc544c23b09819a4ba8f988e": {
      "model_module": "@jupyter-widgets/controls",
      "model_module_version": "1.5.0",
      "model_name": "HTMLModel",
      "state": {
       "_dom_classes": [],
       "_model_module": "@jupyter-widgets/controls",
       "_model_module_version": "1.5.0",
       "_model_name": "HTMLModel",
       "_view_count": null,
       "_view_module": "@jupyter-widgets/controls",
       "_view_module_version": "1.5.0",
       "_view_name": "HTMLView",
       "description": "",
       "description_tooltip": null,
       "layout": "IPY_MODEL_e5597bac85324697b8a7347e27226ca5",
       "placeholder": "​",
       "style": "IPY_MODEL_a6bf3a7d87fa41448ba391559856c8e3",
       "value": " 110374/110374 [00:48&lt;00:00, 2395.04 examples/s]"
      }
     },
     "561f4411feb44de38659cb49c000dfca": {
      "model_module": "@jupyter-widgets/base",
      "model_module_version": "1.2.0",
      "model_name": "LayoutModel",
      "state": {
       "_model_module": "@jupyter-widgets/base",
       "_model_module_version": "1.2.0",
       "_model_name": "LayoutModel",
       "_view_count": null,
       "_view_module": "@jupyter-widgets/base",
       "_view_module_version": "1.2.0",
       "_view_name": "LayoutView",
       "align_content": null,
       "align_items": null,
       "align_self": null,
       "border": null,
       "bottom": null,
       "display": null,
       "flex": null,
       "flex_flow": null,
       "grid_area": null,
       "grid_auto_columns": null,
       "grid_auto_flow": null,
       "grid_auto_rows": null,
       "grid_column": null,
       "grid_gap": null,
       "grid_row": null,
       "grid_template_areas": null,
       "grid_template_columns": null,
       "grid_template_rows": null,
       "height": null,
       "justify_content": null,
       "justify_items": null,
       "left": null,
       "margin": null,
       "max_height": null,
       "max_width": null,
       "min_height": null,
       "min_width": null,
       "object_fit": null,
       "object_position": null,
       "order": null,
       "overflow": null,
       "overflow_x": null,
       "overflow_y": null,
       "padding": null,
       "right": null,
       "top": null,
       "visibility": null,
       "width": null
      }
     },
     "6641fd4211fe455db6e35a35baad4585": {
      "model_module": "@jupyter-widgets/controls",
      "model_module_version": "1.5.0",
      "model_name": "HBoxModel",
      "state": {
       "_dom_classes": [],
       "_model_module": "@jupyter-widgets/controls",
       "_model_module_version": "1.5.0",
       "_model_name": "HBoxModel",
       "_view_count": null,
       "_view_module": "@jupyter-widgets/controls",
       "_view_module_version": "1.5.0",
       "_view_name": "HBoxView",
       "box_style": "",
       "children": [
        "IPY_MODEL_d1a847cb8a4c4dd2ac950507e1d2c14f",
        "IPY_MODEL_76608d3cd0634fd287e7ab4161bd394a",
        "IPY_MODEL_0b07409ccc544c23b09819a4ba8f988e"
       ],
       "layout": "IPY_MODEL_a5e646ccccd942f1a51e92ff4d09fb5e"
      }
     },
     "66b6e35216ad4b588a3dd7e4cb3ab787": {
      "model_module": "@jupyter-widgets/controls",
      "model_module_version": "1.5.0",
      "model_name": "HTMLModel",
      "state": {
       "_dom_classes": [],
       "_model_module": "@jupyter-widgets/controls",
       "_model_module_version": "1.5.0",
       "_model_name": "HTMLModel",
       "_view_count": null,
       "_view_module": "@jupyter-widgets/controls",
       "_view_module_version": "1.5.0",
       "_view_name": "HTMLView",
       "description": "",
       "description_tooltip": null,
       "layout": "IPY_MODEL_f984add1e96c47b6aea84587e7add2ff",
       "placeholder": "​",
       "style": "IPY_MODEL_99b9d442435d469fa40c8478ee9cc9c9",
       "value": "Map: 100%"
      }
     },
     "6ee3260e2903486981dbaaa54cf38629": {
      "model_module": "@jupyter-widgets/base",
      "model_module_version": "1.2.0",
      "model_name": "LayoutModel",
      "state": {
       "_model_module": "@jupyter-widgets/base",
       "_model_module_version": "1.2.0",
       "_model_name": "LayoutModel",
       "_view_count": null,
       "_view_module": "@jupyter-widgets/base",
       "_view_module_version": "1.2.0",
       "_view_name": "LayoutView",
       "align_content": null,
       "align_items": null,
       "align_self": null,
       "border": null,
       "bottom": null,
       "display": null,
       "flex": null,
       "flex_flow": null,
       "grid_area": null,
       "grid_auto_columns": null,
       "grid_auto_flow": null,
       "grid_auto_rows": null,
       "grid_column": null,
       "grid_gap": null,
       "grid_row": null,
       "grid_template_areas": null,
       "grid_template_columns": null,
       "grid_template_rows": null,
       "height": null,
       "justify_content": null,
       "justify_items": null,
       "left": null,
       "margin": null,
       "max_height": null,
       "max_width": null,
       "min_height": null,
       "min_width": null,
       "object_fit": null,
       "object_position": null,
       "order": null,
       "overflow": null,
       "overflow_x": null,
       "overflow_y": null,
       "padding": null,
       "right": null,
       "top": null,
       "visibility": null,
       "width": null
      }
     },
     "76608d3cd0634fd287e7ab4161bd394a": {
      "model_module": "@jupyter-widgets/controls",
      "model_module_version": "1.5.0",
      "model_name": "FloatProgressModel",
      "state": {
       "_dom_classes": [],
       "_model_module": "@jupyter-widgets/controls",
       "_model_module_version": "1.5.0",
       "_model_name": "FloatProgressModel",
       "_view_count": null,
       "_view_module": "@jupyter-widgets/controls",
       "_view_module_version": "1.5.0",
       "_view_name": "ProgressView",
       "bar_style": "success",
       "description": "",
       "description_tooltip": null,
       "layout": "IPY_MODEL_fb2c77cbaff64171a9124ebb07ea1bbb",
       "max": 110374,
       "min": 0,
       "orientation": "horizontal",
       "style": "IPY_MODEL_f08a81a31cf6464eb7b6a58659b51ac3",
       "value": 110374
      }
     },
     "96865d139b8b40ebaaac167b359ae8c1": {
      "model_module": "@jupyter-widgets/controls",
      "model_module_version": "1.5.0",
      "model_name": "HBoxModel",
      "state": {
       "_dom_classes": [],
       "_model_module": "@jupyter-widgets/controls",
       "_model_module_version": "1.5.0",
       "_model_name": "HBoxModel",
       "_view_count": null,
       "_view_module": "@jupyter-widgets/controls",
       "_view_module_version": "1.5.0",
       "_view_name": "HBoxView",
       "box_style": "",
       "children": [
        "IPY_MODEL_66b6e35216ad4b588a3dd7e4cb3ab787",
        "IPY_MODEL_09227c61ad144afbb9342b2a1889f6b7",
        "IPY_MODEL_bcd56829cb684c2f9ed6a7cec29ce4a5"
       ],
       "layout": "IPY_MODEL_561f4411feb44de38659cb49c000dfca"
      }
     },
     "99b9d442435d469fa40c8478ee9cc9c9": {
      "model_module": "@jupyter-widgets/controls",
      "model_module_version": "1.5.0",
      "model_name": "DescriptionStyleModel",
      "state": {
       "_model_module": "@jupyter-widgets/controls",
       "_model_module_version": "1.5.0",
       "_model_name": "DescriptionStyleModel",
       "_view_count": null,
       "_view_module": "@jupyter-widgets/base",
       "_view_module_version": "1.2.0",
       "_view_name": "StyleView",
       "description_width": ""
      }
     },
     "a5e646ccccd942f1a51e92ff4d09fb5e": {
      "model_module": "@jupyter-widgets/base",
      "model_module_version": "1.2.0",
      "model_name": "LayoutModel",
      "state": {
       "_model_module": "@jupyter-widgets/base",
       "_model_module_version": "1.2.0",
       "_model_name": "LayoutModel",
       "_view_count": null,
       "_view_module": "@jupyter-widgets/base",
       "_view_module_version": "1.2.0",
       "_view_name": "LayoutView",
       "align_content": null,
       "align_items": null,
       "align_self": null,
       "border": null,
       "bottom": null,
       "display": null,
       "flex": null,
       "flex_flow": null,
       "grid_area": null,
       "grid_auto_columns": null,
       "grid_auto_flow": null,
       "grid_auto_rows": null,
       "grid_column": null,
       "grid_gap": null,
       "grid_row": null,
       "grid_template_areas": null,
       "grid_template_columns": null,
       "grid_template_rows": null,
       "height": null,
       "justify_content": null,
       "justify_items": null,
       "left": null,
       "margin": null,
       "max_height": null,
       "max_width": null,
       "min_height": null,
       "min_width": null,
       "object_fit": null,
       "object_position": null,
       "order": null,
       "overflow": null,
       "overflow_x": null,
       "overflow_y": null,
       "padding": null,
       "right": null,
       "top": null,
       "visibility": null,
       "width": null
      }
     },
     "a6bf3a7d87fa41448ba391559856c8e3": {
      "model_module": "@jupyter-widgets/controls",
      "model_module_version": "1.5.0",
      "model_name": "DescriptionStyleModel",
      "state": {
       "_model_module": "@jupyter-widgets/controls",
       "_model_module_version": "1.5.0",
       "_model_name": "DescriptionStyleModel",
       "_view_count": null,
       "_view_module": "@jupyter-widgets/base",
       "_view_module_version": "1.2.0",
       "_view_name": "StyleView",
       "description_width": ""
      }
     },
     "b1ce03e4cb674e6cb64db3b216b938c6": {
      "model_module": "@jupyter-widgets/controls",
      "model_module_version": "1.5.0",
      "model_name": "DescriptionStyleModel",
      "state": {
       "_model_module": "@jupyter-widgets/controls",
       "_model_module_version": "1.5.0",
       "_model_name": "DescriptionStyleModel",
       "_view_count": null,
       "_view_module": "@jupyter-widgets/base",
       "_view_module_version": "1.2.0",
       "_view_name": "StyleView",
       "description_width": ""
      }
     },
     "bcd56829cb684c2f9ed6a7cec29ce4a5": {
      "model_module": "@jupyter-widgets/controls",
      "model_module_version": "1.5.0",
      "model_name": "HTMLModel",
      "state": {
       "_dom_classes": [],
       "_model_module": "@jupyter-widgets/controls",
       "_model_module_version": "1.5.0",
       "_model_name": "HTMLModel",
       "_view_count": null,
       "_view_module": "@jupyter-widgets/controls",
       "_view_module_version": "1.5.0",
       "_view_name": "HTMLView",
       "description": "",
       "description_tooltip": null,
       "layout": "IPY_MODEL_d33cd518108840309140b3f4ebf35780",
       "placeholder": "​",
       "style": "IPY_MODEL_ddd3b8bb7e7d449bb90de7ff4e625ce4",
       "value": " 14411/14411 [00:06&lt;00:00, 2681.35 examples/s]"
      }
     },
     "d1a847cb8a4c4dd2ac950507e1d2c14f": {
      "model_module": "@jupyter-widgets/controls",
      "model_module_version": "1.5.0",
      "model_name": "HTMLModel",
      "state": {
       "_dom_classes": [],
       "_model_module": "@jupyter-widgets/controls",
       "_model_module_version": "1.5.0",
       "_model_name": "HTMLModel",
       "_view_count": null,
       "_view_module": "@jupyter-widgets/controls",
       "_view_module_version": "1.5.0",
       "_view_name": "HTMLView",
       "description": "",
       "description_tooltip": null,
       "layout": "IPY_MODEL_f70e1a7aa998412885d42e5916995c1d",
       "placeholder": "​",
       "style": "IPY_MODEL_b1ce03e4cb674e6cb64db3b216b938c6",
       "value": "Map: 100%"
      }
     },
     "d33cd518108840309140b3f4ebf35780": {
      "model_module": "@jupyter-widgets/base",
      "model_module_version": "1.2.0",
      "model_name": "LayoutModel",
      "state": {
       "_model_module": "@jupyter-widgets/base",
       "_model_module_version": "1.2.0",
       "_model_name": "LayoutModel",
       "_view_count": null,
       "_view_module": "@jupyter-widgets/base",
       "_view_module_version": "1.2.0",
       "_view_name": "LayoutView",
       "align_content": null,
       "align_items": null,
       "align_self": null,
       "border": null,
       "bottom": null,
       "display": null,
       "flex": null,
       "flex_flow": null,
       "grid_area": null,
       "grid_auto_columns": null,
       "grid_auto_flow": null,
       "grid_auto_rows": null,
       "grid_column": null,
       "grid_gap": null,
       "grid_row": null,
       "grid_template_areas": null,
       "grid_template_columns": null,
       "grid_template_rows": null,
       "height": null,
       "justify_content": null,
       "justify_items": null,
       "left": null,
       "margin": null,
       "max_height": null,
       "max_width": null,
       "min_height": null,
       "min_width": null,
       "object_fit": null,
       "object_position": null,
       "order": null,
       "overflow": null,
       "overflow_x": null,
       "overflow_y": null,
       "padding": null,
       "right": null,
       "top": null,
       "visibility": null,
       "width": null
      }
     },
     "ddd3b8bb7e7d449bb90de7ff4e625ce4": {
      "model_module": "@jupyter-widgets/controls",
      "model_module_version": "1.5.0",
      "model_name": "DescriptionStyleModel",
      "state": {
       "_model_module": "@jupyter-widgets/controls",
       "_model_module_version": "1.5.0",
       "_model_name": "DescriptionStyleModel",
       "_view_count": null,
       "_view_module": "@jupyter-widgets/base",
       "_view_module_version": "1.2.0",
       "_view_name": "StyleView",
       "description_width": ""
      }
     },
     "e5597bac85324697b8a7347e27226ca5": {
      "model_module": "@jupyter-widgets/base",
      "model_module_version": "1.2.0",
      "model_name": "LayoutModel",
      "state": {
       "_model_module": "@jupyter-widgets/base",
       "_model_module_version": "1.2.0",
       "_model_name": "LayoutModel",
       "_view_count": null,
       "_view_module": "@jupyter-widgets/base",
       "_view_module_version": "1.2.0",
       "_view_name": "LayoutView",
       "align_content": null,
       "align_items": null,
       "align_self": null,
       "border": null,
       "bottom": null,
       "display": null,
       "flex": null,
       "flex_flow": null,
       "grid_area": null,
       "grid_auto_columns": null,
       "grid_auto_flow": null,
       "grid_auto_rows": null,
       "grid_column": null,
       "grid_gap": null,
       "grid_row": null,
       "grid_template_areas": null,
       "grid_template_columns": null,
       "grid_template_rows": null,
       "height": null,
       "justify_content": null,
       "justify_items": null,
       "left": null,
       "margin": null,
       "max_height": null,
       "max_width": null,
       "min_height": null,
       "min_width": null,
       "object_fit": null,
       "object_position": null,
       "order": null,
       "overflow": null,
       "overflow_x": null,
       "overflow_y": null,
       "padding": null,
       "right": null,
       "top": null,
       "visibility": null,
       "width": null
      }
     },
     "e69bde40ae5c46f18de2c77c8b87d437": {
      "model_module": "@jupyter-widgets/controls",
      "model_module_version": "1.5.0",
      "model_name": "ProgressStyleModel",
      "state": {
       "_model_module": "@jupyter-widgets/controls",
       "_model_module_version": "1.5.0",
       "_model_name": "ProgressStyleModel",
       "_view_count": null,
       "_view_module": "@jupyter-widgets/base",
       "_view_module_version": "1.2.0",
       "_view_name": "StyleView",
       "bar_color": null,
       "description_width": ""
      }
     },
     "f08a81a31cf6464eb7b6a58659b51ac3": {
      "model_module": "@jupyter-widgets/controls",
      "model_module_version": "1.5.0",
      "model_name": "ProgressStyleModel",
      "state": {
       "_model_module": "@jupyter-widgets/controls",
       "_model_module_version": "1.5.0",
       "_model_name": "ProgressStyleModel",
       "_view_count": null,
       "_view_module": "@jupyter-widgets/base",
       "_view_module_version": "1.2.0",
       "_view_name": "StyleView",
       "bar_color": null,
       "description_width": ""
      }
     },
     "f70e1a7aa998412885d42e5916995c1d": {
      "model_module": "@jupyter-widgets/base",
      "model_module_version": "1.2.0",
      "model_name": "LayoutModel",
      "state": {
       "_model_module": "@jupyter-widgets/base",
       "_model_module_version": "1.2.0",
       "_model_name": "LayoutModel",
       "_view_count": null,
       "_view_module": "@jupyter-widgets/base",
       "_view_module_version": "1.2.0",
       "_view_name": "LayoutView",
       "align_content": null,
       "align_items": null,
       "align_self": null,
       "border": null,
       "bottom": null,
       "display": null,
       "flex": null,
       "flex_flow": null,
       "grid_area": null,
       "grid_auto_columns": null,
       "grid_auto_flow": null,
       "grid_auto_rows": null,
       "grid_column": null,
       "grid_gap": null,
       "grid_row": null,
       "grid_template_areas": null,
       "grid_template_columns": null,
       "grid_template_rows": null,
       "height": null,
       "justify_content": null,
       "justify_items": null,
       "left": null,
       "margin": null,
       "max_height": null,
       "max_width": null,
       "min_height": null,
       "min_width": null,
       "object_fit": null,
       "object_position": null,
       "order": null,
       "overflow": null,
       "overflow_x": null,
       "overflow_y": null,
       "padding": null,
       "right": null,
       "top": null,
       "visibility": null,
       "width": null
      }
     },
     "f984add1e96c47b6aea84587e7add2ff": {
      "model_module": "@jupyter-widgets/base",
      "model_module_version": "1.2.0",
      "model_name": "LayoutModel",
      "state": {
       "_model_module": "@jupyter-widgets/base",
       "_model_module_version": "1.2.0",
       "_model_name": "LayoutModel",
       "_view_count": null,
       "_view_module": "@jupyter-widgets/base",
       "_view_module_version": "1.2.0",
       "_view_name": "LayoutView",
       "align_content": null,
       "align_items": null,
       "align_self": null,
       "border": null,
       "bottom": null,
       "display": null,
       "flex": null,
       "flex_flow": null,
       "grid_area": null,
       "grid_auto_columns": null,
       "grid_auto_flow": null,
       "grid_auto_rows": null,
       "grid_column": null,
       "grid_gap": null,
       "grid_row": null,
       "grid_template_areas": null,
       "grid_template_columns": null,
       "grid_template_rows": null,
       "height": null,
       "justify_content": null,
       "justify_items": null,
       "left": null,
       "margin": null,
       "max_height": null,
       "max_width": null,
       "min_height": null,
       "min_width": null,
       "object_fit": null,
       "object_position": null,
       "order": null,
       "overflow": null,
       "overflow_x": null,
       "overflow_y": null,
       "padding": null,
       "right": null,
       "top": null,
       "visibility": null,
       "width": null
      }
     },
     "fb2c77cbaff64171a9124ebb07ea1bbb": {
      "model_module": "@jupyter-widgets/base",
      "model_module_version": "1.2.0",
      "model_name": "LayoutModel",
      "state": {
       "_model_module": "@jupyter-widgets/base",
       "_model_module_version": "1.2.0",
       "_model_name": "LayoutModel",
       "_view_count": null,
       "_view_module": "@jupyter-widgets/base",
       "_view_module_version": "1.2.0",
       "_view_name": "LayoutView",
       "align_content": null,
       "align_items": null,
       "align_self": null,
       "border": null,
       "bottom": null,
       "display": null,
       "flex": null,
       "flex_flow": null,
       "grid_area": null,
       "grid_auto_columns": null,
       "grid_auto_flow": null,
       "grid_auto_rows": null,
       "grid_column": null,
       "grid_gap": null,
       "grid_row": null,
       "grid_template_areas": null,
       "grid_template_columns": null,
       "grid_template_rows": null,
       "height": null,
       "justify_content": null,
       "justify_items": null,
       "left": null,
       "margin": null,
       "max_height": null,
       "max_width": null,
       "min_height": null,
       "min_width": null,
       "object_fit": null,
       "object_position": null,
       "order": null,
       "overflow": null,
       "overflow_x": null,
       "overflow_y": null,
       "padding": null,
       "right": null,
       "top": null,
       "visibility": null,
       "width": null
      }
     }
    },
    "version_major": 2,
    "version_minor": 0
   }
  }
 },
 "nbformat": 4,
 "nbformat_minor": 5
}
